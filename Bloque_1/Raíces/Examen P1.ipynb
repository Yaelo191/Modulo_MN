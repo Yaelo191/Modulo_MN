{
 "cells": [
  {
   "cell_type": "markdown",
   "id": "8a2dfbac-ba0b-435b-909f-20e2d629dd4d",
   "metadata": {},
   "source": [
    "# Examen parcial metodos numericos\n"
   ]
  },
  {
   "cell_type": "markdown",
   "id": "46a7a37c-0e56-4fd8-84eb-be581f1b08d8",
   "metadata": {},
   "source": [
    "### Preambulo\n",
    "Se presentan una serie de métodos numéricos para encontrar raíces de funciones, todos fueron vistos durante el curso. Métodos como el de punto fijo, secante y secante v2 son una versión simple, mientras que el método de bisección y Newton cuentan con un mayor desarrollo. En particular, el método de Newton sintió la necesidad de separarlo en dos versiones: una limitada a la aplicación del método per se y una segunda versión que hace uso del método de bisección para determinar sus semillas."
   ]
  },
  {
   "cell_type": "markdown",
   "id": "1bf8794c-5277-4469-83de-0fc1f8e37ca1",
   "metadata": {},
   "source": [
    "### Metodo de biseccion\n",
    "Este metodo se encuentra en su tercer version, se basa en el algoritmo visto en clase y se agrega la funcion encontrar_intervalo, esta ultima es capaz de que dentro de un intervalo mayor comience la busqueda de intervalos menores paso a paso, el paso es modificable, nos devuelve una lista temporal de intervalos, estos dentro de la funcion metodo_biseccion pasaran por un ciclo for para ejecutar el algoritmo del metodo una vez por cada intervalo menor encontrado, esto nos permitira encntrar multiples raices que son almacenadas en una lista nombrada \"raices\" que devuelve nuestra funcion, esto se hizo con la intencion de poder aprovechar estas aproximaciones para mas adelante ser refinadas por el metodo de newton o cualquier otro.  "
   ]
  },
  {
   "cell_type": "code",
   "execution_count": 5,
   "id": "6497dd59-5b3d-499c-ae27-cd1556d5d69d",
   "metadata": {},
   "outputs": [
    {
     "name": "stdout",
     "output_type": "stream",
     "text": [
      "The autoreload extension is already loaded. To reload it, use:\n",
      "  %reload_ext autoreload\n"
     ]
    },
    {
     "name": "stdin",
     "output_type": "stream",
     "text": [
      "Ingrese una función de x (por ejemplo, 'x**2 - 4'):  x**2-3*x+2\n"
     ]
    },
    {
     "name": "stdout",
     "output_type": "stream",
     "text": [
      "La raíz aproximada es: 1.0000061035156063\n",
      "La raíz aproximada es: 2.000006103515607\n",
      "Fin del programa\n"
     ]
    }
   ],
   "source": [
    "%load_ext autoreload\n",
    "%autoreload 2\n",
    "\n",
    "import numpy as np\n",
    "import Modulos_Raíces as sev\n",
    "\n",
    "def_funcion = input(\"Ingrese una función de x (por ejemplo, 'x**2 - 4'): \")\n",
    "res = sev.metodo_biseccion(def_funcion, -10, 10)"
   ]
  },
  {
   "cell_type": "markdown",
   "id": "ab032a0c-471a-4edb-96dd-39688ed7286b",
   "metadata": {},
   "source": [
    "### Metodo de punto fijo\n",
    "Es un codigo basado en la estructura del algoritmo visto en clase, su adicion a esto esto son sus argumentos definidos por: P0=1, tolerancia=0.000001 y max_iter=10000."
   ]
  },
  {
   "cell_type": "code",
   "execution_count": null,
   "id": "764f42d1-5810-4818-98f2-e2097735d432",
   "metadata": {},
   "outputs": [
    {
     "name": "stdin",
     "output_type": "stream",
     "text": [
      "Ingrese una función de x despejando x(por ejemplo para 'x**2 + 7*x + 12'-->'-(x**2 + 12)/7'):  3*x**2 + 10*x\n",
      "Ingrese una semilla:  -1\n"
     ]
    }
   ],
   "source": [
    "%load_ext autoreload\n",
    "%autoreload 2\n",
    "import Modulos_Raíces as sev\n",
    "\n",
    "def_funcion = input(\"Ingrese una función de x despejando x(por ejemplo para 'x**2 + 7*x + 12'-->'-(x**2 + 12)/7'): \")\n",
    "d0 = float(input(\"Ingrese una semilla: \"))\n",
    "res = sev.metodo_punto_fijo(def_funcion)"
   ]
  },
  {
   "cell_type": "markdown",
   "id": "b4a48ff5-dc39-426c-be49-4f1e8e5d05b8",
   "metadata": {},
   "source": [
    "### Metodo de Newton\n",
    "Esta es la primer version del metodo de newton, basada enteramente en el algoritmo de clase, nuevamente este codigo solo tiene la adicionl de tener definidas las variables P0=1, tolerancia=0.000001 y max_iter=10000, y tener la posibilidad de personalizarlas."
   ]
  },
  {
   "cell_type": "code",
   "execution_count": 28,
   "id": "8900340e-125a-4d86-b1a8-0accae4918c9",
   "metadata": {},
   "outputs": [
    {
     "name": "stdout",
     "output_type": "stream",
     "text": [
      "The autoreload extension is already loaded. To reload it, use:\n",
      "  %reload_ext autoreload\n"
     ]
    },
    {
     "name": "stdin",
     "output_type": "stream",
     "text": [
      "Ingrese una función de x (por ejemplo 'x**2 + 7*x + 12'):  x**2 + 7*x + 12\n",
      "Ingrese la derivada de la funcion anterior (por ejemplo para '2*x +7'):  2*x +7\n",
      "Ingrese una semilla:  2\n"
     ]
    },
    {
     "name": "stdout",
     "output_type": "stream",
     "text": [
      "Raíz encontrada: -2.9999999999267515\n"
     ]
    }
   ],
   "source": [
    "%load_ext autoreload\n",
    "%autoreload 2\n",
    "import numpy as np\n",
    "import Modulos_Raíces as sev\n",
    "\n",
    "def_funcion = input(\"Ingrese una función de x (por ejemplo 'x**2 + 7*x + 12'): \")\n",
    "def_funcion_prime = input(\"Ingrese la derivada de la funcion anterior (por ejemplo para '2*x +7'): \")\n",
    "d0 = float(input(\"Ingrese una semilla: \"))\n",
    "res = sev.metodo_newton(def_funcion, def_funcion_prime, P0=d0)"
   ]
  },
  {
   "cell_type": "markdown",
   "id": "f4fb0e7b-8781-4fc7-85fd-c94044509a65",
   "metadata": {},
   "source": [
    "### Metodo de Newton v2\n",
    "Mi version mas actual del metodo de newton, las diferencias con su predecesor podemos en general son el uso del metodo de biseccion para encontrar sus semillas/aproxmaciones, como consecuencia a esto ya no se requiere de la entrada manual de semillas o de una semilla predeterminada inexacta, cuenta con un intervalo mayor predeterminado que recibira la funcion de biseccion(tenemos la opcion de configurar esto). Como un bonus agregue una condicional, en caso de que biseccion no sea capas de encontrar raices aproximadas, la funcion metodo de newtn recibira como semilla un numero complejo, de este modo continuara su busqueda ahora en  este plano."
   ]
  },
  {
   "cell_type": "code",
   "execution_count": 29,
   "id": "24e3ce9f-d73d-40e1-87c4-cfa58ba9a2de",
   "metadata": {
    "scrolled": true
   },
   "outputs": [
    {
     "name": "stdout",
     "output_type": "stream",
     "text": [
      "The autoreload extension is already loaded. To reload it, use:\n",
      "  %reload_ext autoreload\n"
     ]
    },
    {
     "name": "stdin",
     "output_type": "stream",
     "text": [
      "Ingrese una función de x (por ejemplo 'x**2 + 7*x + 12'):  3*x**2 + 9*x\n",
      "Ingrese la derivada de la función anterior (por ejemplo para '2*x + 7'):  6*x + 9\n"
     ]
    },
    {
     "name": "stdout",
     "output_type": "stream",
     "text": [
      "Raíz encontrada: -3.0000000000001243\n",
      "Raíz encontrada: 1.2417622417217782e-13\n"
     ]
    }
   ],
   "source": [
    "%load_ext autoreload\n",
    "%autoreload 2\n",
    "    \n",
    "import numpy as np\n",
    "import Modulos_Raíces as sev\n",
    "\n",
    "def_funcion = input(\"Ingrese una función de x (por ejemplo 'x**2 + 7*x + 12'): \")\n",
    "def_funcion_prime = input(\"Ingrese la derivada de la función anterior (por ejemplo para '2*x + 7'): \")\n",
    "resu = sev.metodo_newton_v2(def_funcion, def_funcion_prime)"
   ]
  },
  {
   "cell_type": "markdown",
   "id": "371e81a6-6c97-4af6-906a-ae1b6bd46334",
   "metadata": {},
   "source": [
    "### Metodo secante\n",
    "Es un codigo basado en la estructura del algoritmo visto en clase, su adicion a esto esto son sus argumentos definidos por: P0=1, P1=10, tolerancia=0.000001 y max_iter=10000."
   ]
  },
  {
   "cell_type": "code",
   "execution_count": 19,
   "id": "1cb6bcea-07e2-485f-9acd-c481436ebef0",
   "metadata": {},
   "outputs": [
    {
     "name": "stdout",
     "output_type": "stream",
     "text": [
      "The autoreload extension is already loaded. To reload it, use:\n",
      "  %reload_ext autoreload\n"
     ]
    },
    {
     "name": "stdin",
     "output_type": "stream",
     "text": [
      "Ingrese una función de x (por ejemplo 'x**2 + 7*x + 12'):  3*x**2 + 9*x\n",
      "Ingrese una semilla:  -5\n",
      "Ingrese una segunda semilla:  5\n"
     ]
    },
    {
     "name": "stdout",
     "output_type": "stream",
     "text": [
      "Raíz encontrada: -3.0000000005416467\n"
     ]
    }
   ],
   "source": [
    "%load_ext autoreload\n",
    "%autoreload 2\n",
    "import numpy as np\n",
    "import Modulos_Raíces as sev\n",
    "\n",
    "def_funcion = input(\"Ingrese una función de x (por ejemplo 'x**2 + 7*x + 12'): \")\n",
    "d0 = float(input(\"Ingrese una semilla: \"))\n",
    "d1 = float(input(\"Ingrese una segunda semilla: \"))\n",
    "rest = sev.metodo_secante(def_funcion, d0, d1)"
   ]
  },
  {
   "cell_type": "markdown",
   "id": "4ed62a7d-5a56-4ad5-9d04-0adbd7c9c9d6",
   "metadata": {},
   "source": [
    "### Metodo secante v2\n",
    "Es un codigo basado en la estructura del algoritmo visto en clase, su adicion a esto esto son sus argumentos definidos por:  a=1, b=10, tolerancia=0.000001, max_iter=1000."
   ]
  },
  {
   "cell_type": "code",
   "execution_count": 21,
   "id": "d424ccc3-3af6-46b1-9c55-10d88e187514",
   "metadata": {},
   "outputs": [
    {
     "name": "stdout",
     "output_type": "stream",
     "text": [
      "The autoreload extension is already loaded. To reload it, use:\n",
      "  %reload_ext autoreload\n"
     ]
    },
    {
     "name": "stdin",
     "output_type": "stream",
     "text": [
      "Ingrese una función de x (por ejemplo 'x**2 + 7*x + 12'):  3*x**2 + 9*x\n",
      "Ingrese extremo a:  -5\n",
      "Ingrese extremo b:  5\n"
     ]
    },
    {
     "name": "stdout",
     "output_type": "stream",
     "text": [
      "Raíz encontrada: -3.0000003298535245\n"
     ]
    }
   ],
   "source": [
    "%load_ext autoreload\n",
    "%autoreload 2\n",
    "import numpy as np\n",
    "import Modulos_Raíces as sev\n",
    "\n",
    "def_funcion = input(\"Ingrese una función de x (por ejemplo 'x**2 + 7*x + 12'): \")\n",
    "d0 = float(input(\"Ingrese extremo a: \"))\n",
    "d1 = float(input(\"Ingrese extremo b: \"))\n",
    "res = sev.metodo_secante_v2(def_funcion, d0, d1)"
   ]
  },
  {
   "cell_type": "code",
   "execution_count": null,
   "id": "ff508442-da92-4be9-b9bd-50698dc4f6a7",
   "metadata": {},
   "outputs": [],
   "source": []
  }
 ],
 "metadata": {
  "kernelspec": {
   "display_name": "Python 3 (ipykernel)",
   "language": "python",
   "name": "python3"
  },
  "language_info": {
   "codemirror_mode": {
    "name": "ipython",
    "version": 3
   },
   "file_extension": ".py",
   "mimetype": "text/x-python",
   "name": "python",
   "nbconvert_exporter": "python",
   "pygments_lexer": "ipython3",
   "version": "3.11.5"
  }
 },
 "nbformat": 4,
 "nbformat_minor": 5
}
