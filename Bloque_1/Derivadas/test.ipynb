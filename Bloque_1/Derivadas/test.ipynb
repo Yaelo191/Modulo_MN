{
 "cells": [
  {
   "cell_type": "code",
   "execution_count": 15,
   "id": "83d3a1d1-ae52-4c2f-99fd-d935e125b5e3",
   "metadata": {},
   "outputs": [
    {
     "name": "stdout",
     "output_type": "stream",
     "text": [
      "Derivada derecha aproximada: 21.00003000009565\n",
      "Derivada izquierda aproximada: 20.999970000090684\n",
      "Derivada central aproximada: 20.99999999956026\n",
      "Derivada central de 4to orden aproximada: 21.000000000033953\n",
      "Valor  21.0\n",
      "===> valor  21.00003000009565 Abs 3.0000095648574643e-05\n",
      "===> valor  20.999970000090684 Abs 2.9999909315847617e-05\n",
      "===> valor  20.99999999956026 Abs 4.397406883072108e-10\n",
      "===> valor  21.000000000033953 Abs 3.395328462829639e-11\n"
     ]
    }
   ],
   "source": [
    "import numpy as np\n",
    "\n",
    "def dif_derecha(f, x, h=1e-05):\n",
    "\n",
    "    dfl = (f(x+h) - f(x))/h\n",
    "    print(f\"Derivada derecha aproximada: {dfl}\")\n",
    "    \n",
    "    return dfl\n",
    "\n",
    "def dif_izquierda(f, x, h=1e-05):\n",
    "\n",
    "    dfr = (f(x) - f(x-h))/h\n",
    "    print(f\"Derivada izquierda aproximada: {dfr}\")\n",
    "    \n",
    "    return dfr\n",
    "\n",
    "def dif_central(f, x, h):\n",
    "    \n",
    "    dfc = (f(x+h/2) - f(x-h/2))/h\n",
    "    print(f\"Derivada central de 2do orden aproximada: {dfc}\")\n",
    "    \n",
    "    return dfc\n",
    "\n",
    "def dif_central_4to(f, x, h):\n",
    "    \n",
    "    dfc4 = (-f(x+2*h) + 8*f(x+h) - 8*f(x-h) + f(x-2*h))/(12*h)\n",
    "    print(f\"Derivada central de 4to orden aproximada: {dfc4}\")\n",
    "    \n",
    "    return dfc4\n",
    "\n",
    "f = lambda x: 3*x**2 + 9*x\n",
    "h = 1e-05\n",
    "x = 2\n",
    "\n",
    "Der = dif_derecha(f, x, h=1e-05)\n",
    "Izq = dif_izquierda(f, x, h=1e-05)\n",
    "Cen2 = dif_central(f, x, h=1e-05)\n",
    "Cen4 = dif_central_4to(f, x, h=1e-05)\n",
    "\n",
    "valComp = 21.0\n",
    "print('Valor ', valComp)\n",
    "print('===> ''Der ', Der, 'Abs', abs(valComp-Der))\n",
    "print('===> ''valor ', Izq, 'Abs', abs(valComp-Izq))\n",
    "print('===> ''valor ', Cen2, 'Abs', abs(valComp-Cen2))\n",
    "print('===> ''valor ', Cen4, 'Abs', abs(valComp-Cen4))"
   ]
  },
  {
   "cell_type": "code",
   "execution_count": 1,
   "id": "eaa19679-3c4b-45f4-884f-878ad4c52b4f",
   "metadata": {},
   "outputs": [
    {
     "name": "stdout",
     "output_type": "stream",
     "text": [
      "Derivada central de 2do orden aproximada: 20.99999999956026\n"
     ]
    }
   ],
   "source": [
    "import numpy as np\n",
    "import dif_cen as df\n",
    "\n",
    "f = lambda x: 3*x**2 + 9*x\n",
    "x = 2\n",
    "rf = df.dif_central(f, x)"
   ]
  },
  {
   "cell_type": "code",
   "execution_count": null,
   "id": "bcd929ea-af23-477c-bebf-35c4469b017e",
   "metadata": {},
   "outputs": [],
   "source": []
  }
 ],
 "metadata": {
  "kernelspec": {
   "display_name": "Python 3 (ipykernel)",
   "language": "python",
   "name": "python3"
  },
  "language_info": {
   "codemirror_mode": {
    "name": "ipython",
    "version": 3
   },
   "file_extension": ".py",
   "mimetype": "text/x-python",
   "name": "python",
   "nbconvert_exporter": "python",
   "pygments_lexer": "ipython3",
   "version": "3.11.5"
  }
 },
 "nbformat": 4,
 "nbformat_minor": 5
}
