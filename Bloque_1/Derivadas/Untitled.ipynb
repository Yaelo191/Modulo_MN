{
 "cells": [
  {
   "cell_type": "code",
   "execution_count": 4,
   "id": "83d3a1d1-ae52-4c2f-99fd-d935e125b5e3",
   "metadata": {},
   "outputs": [
    {
     "name": "stdout",
     "output_type": "stream",
     "text": [
      "Derivada derecha aproximada: 21.00003000009565\n",
      "Derivada izquierda aproximada: 20.999970000090684\n"
     ]
    }
   ],
   "source": [
    "import numpy as np\n",
    "\n",
    "def dif_derecha(f, x, h=1e-05):\n",
    "\n",
    "    dfl = (f(x+h) - f(x))/h\n",
    "    print(f\"Derivada derecha aproximada: {dfl}\")\n",
    "    \n",
    "    return dfl\n",
    "\n",
    "def dif_izquierda(f, x, h=1e-05):\n",
    "\n",
    "    dfr = (f(x) - f(x-h))/h\n",
    "    print(f\"Derivada izquierda aproximada: {dfr}\")\n",
    "    \n",
    "    return dfr\n",
    "\n",
    "f = lambda x: 3*x**2 + 9*x\n",
    "h = 1e-05\n",
    "x = 2\n",
    "\n",
    "Der1 = dif_derecha(f, x, h=1e-05)\n",
    "Der2 = dif_izquierda(f, x, h=1e-05)"
   ]
  },
  {
   "cell_type": "code",
   "execution_count": null,
   "id": "eaa19679-3c4b-45f4-884f-878ad4c52b4f",
   "metadata": {},
   "outputs": [],
   "source": []
  }
 ],
 "metadata": {
  "kernelspec": {
   "display_name": "Python 3 (ipykernel)",
   "language": "python",
   "name": "python3"
  },
  "language_info": {
   "codemirror_mode": {
    "name": "ipython",
    "version": 3
   },
   "file_extension": ".py",
   "mimetype": "text/x-python",
   "name": "python",
   "nbconvert_exporter": "python",
   "pygments_lexer": "ipython3",
   "version": "3.11.5"
  }
 },
 "nbformat": 4,
 "nbformat_minor": 5
}
