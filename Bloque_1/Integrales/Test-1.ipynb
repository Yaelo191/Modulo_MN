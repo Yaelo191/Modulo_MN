{
 "cells": [
  {
   "cell_type": "markdown",
   "id": "63ecdd25-bc02-4cf9-beb8-c4938946296a",
   "metadata": {},
   "source": [
    "# Test integracion Simpson / Boole\n"
   ]
  },
  {
   "cell_type": "code",
   "execution_count": 2,
   "id": "1f761824-75ac-4237-94a8-187ee53e4fc4",
   "metadata": {},
   "outputs": [
    {
     "name": "stdout",
     "output_type": "stream",
     "text": [
      "14/45 0.005982905982905983\n",
      "64/45 0.027345371351243677\n",
      "24/45 0.010248832560321173\n",
      "64/45 0.027305024045828623\n",
      "28/45 0.011930566493181319\n",
      "64/45 0.02722486233436667\n",
      "24/45 0.01018880959867827\n",
      "64/45 0.02710593262558256\n",
      "28/45 0.011826669886417644\n",
      "64/45 0.026949757425106274\n",
      "24/45 0.010071860994673307\n",
      "64/45 0.026758282478466767\n",
      "28/45 0.01165938182882451\n",
      "64/45 0.026533811969786856\n",
      "24/45 0.009903751369442767\n",
      "64/45 0.02627893582716977\n",
      "28/45 0.011436671899237008\n",
      "64/45 0.0259964533381373\n",
      "24/45 0.00969216485579752\n",
      "64/45 0.025689297060943275\n",
      "28/45 0.011168238022942594\n",
      "64/45 0.025360460502097493\n",
      "24/45 0.009445817959677527\n",
      "64/45 0.02501293231475652\n",
      "28/45 0.010864471267526774\n",
      "64/45 0.024649638961372615\n",
      "24/45 0.009173612215383754\n",
      "64/45 0.02427339697235528\n",
      "28/45 0.010535551623000388\n",
      "64/45 0.023886875195302772\n",
      "24/45 0.008883954728703595\n",
      "64/45 0.023492566815960708\n",
      "28/45 0.010190783276806508\n",
      "64/45 0.023092770466541773\n",
      "24/45 0.008584303733062007\n",
      "64/45 0.022689579422069478\n",
      "28/45 0.009838197164968292\n",
      "64/45 0.022284877708027753\n",
      "24/45 0.008280934587260492\n",
      "64/45 0.02188034188034188\n",
      "28/45 0.00948438961321744\n",
      "64/45 0.02147744726503325\n",
      "24/45 0.00797888389952535\n",
      "64/45 0.021077477533281402\n",
      "28/45 0.0091345367480065\n",
      "64/45 0.020681536614366555\n",
      "24/45 0.007682016025542366\n",
      "64/45 0.020290562094542892\n",
      "28/45 0.008792519850243447\n",
      "64/45 0.01990533939946214\n",
      "24/45 0.007393159640019036\n",
      "64/45 0.01952651620092289\n",
      "14/45 0.004230553391714386\n",
      "La integral da como resultado: \n",
      "0.8813735870201472\n"
     ]
    }
   ],
   "source": [
    "import numpy as np\n",
    "\n",
    "def f(x):\n",
    "    return 1 / np.sqrt(x**2 + 1)\n",
    "    \n",
    "a = 0.\n",
    "b = 1.\n",
    "\n",
    "def integracion_boole(f, a , b , Npuntos=52):\n",
    "\n",
    "    if not Npuntos % 4 == 0:\n",
    "        corrector = Npuntos % 4\n",
    "        Npuntos -= corrector\n",
    "        print(f\"Se requiere un número de puntos múltiplo de 4, los puntos ahora son {Npuntos}\")\n",
    "    Npuntos += 1\n",
    "    h = (b-a)/(Npuntos-1)\n",
    "    Resultado = 0\n",
    "    \n",
    "    for i in range(1, Npuntos+1):\n",
    "        x = a + (i-1) * h\n",
    "        if i == 1 or i == Npuntos:\n",
    "            contribucion = f(x)*(14/45)*h\n",
    "            print(f'14/45 {contribucion}')\n",
    "        elif (i-1) % 4 == 0:\n",
    "            contribucion = f(x)*(28/45)*h  \n",
    "            print(f'28/45 {contribucion}')\n",
    "        elif (i+1) % 4 == 0:\n",
    "            contribucion = f(x)*(24/45)*h\n",
    "            print(f'24/45 {contribucion}')\n",
    "        else:\n",
    "            contribucion = f(x)*(64/45)*h\n",
    "            print(f'64/45 {contribucion}')\n",
    "        Resultado += contribucion\n",
    "    print(f\"La integral da como resultado: \")\n",
    "    print(Resultado)\n",
    "    return\n",
    "    \n",
    "integracion_boole(f, a , b)"
   ]
  },
  {
   "cell_type": "code",
   "execution_count": null,
   "id": "c4ed5d55-d4be-4b2e-b9fa-86a34ddb6152",
   "metadata": {},
   "outputs": [],
   "source": [
    "0.8813735870201473"
   ]
  },
  {
   "cell_type": "code",
   "execution_count": null,
   "id": "e72d81f4-ed4a-4bfa-a176-acf09ed006f7",
   "metadata": {},
   "outputs": [],
   "source": []
  }
 ],
 "metadata": {
  "kernelspec": {
   "display_name": "Python 3 (ipykernel)",
   "language": "python",
   "name": "python3"
  },
  "language_info": {
   "codemirror_mode": {
    "name": "ipython",
    "version": 3
   },
   "file_extension": ".py",
   "mimetype": "text/x-python",
   "name": "python",
   "nbconvert_exporter": "python",
   "pygments_lexer": "ipython3",
   "version": "3.11.5"
  }
 },
 "nbformat": 4,
 "nbformat_minor": 5
}
