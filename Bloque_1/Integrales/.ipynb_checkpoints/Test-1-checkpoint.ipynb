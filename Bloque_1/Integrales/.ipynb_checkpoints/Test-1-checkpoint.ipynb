{
 "cells": [
  {
   "cell_type": "markdown",
   "id": "63ecdd25-bc02-4cf9-beb8-c4938946296a",
   "metadata": {},
   "source": [
    "# Test integracion Simpson / Boole\n"
   ]
  },
  {
   "cell_type": "code",
   "execution_count": 9,
   "id": "1f761824-75ac-4237-94a8-187ee53e4fc4",
   "metadata": {},
   "outputs": [
    {
     "name": "stdout",
     "output_type": "stream",
     "text": [
      "Se requiere un número de puntos múltiplo de 4, los puntos ahora son 50\n",
      "14/45 0.006100217864923747\n",
      "64/45 0.027886710239651415\n",
      "24/45 0.01045751633986928\n",
      "64/45 0.027886710239651415\n",
      "28/45 0.012200435729847494\n",
      "64/45 0.027886710239651415\n",
      "24/45 0.01045751633986928\n",
      "64/45 0.027886710239651415\n",
      "28/45 0.012200435729847494\n",
      "64/45 0.027886710239651415\n",
      "24/45 0.01045751633986928\n",
      "64/45 0.027886710239651415\n",
      "28/45 0.012200435729847494\n",
      "64/45 0.027886710239651415\n",
      "24/45 0.01045751633986928\n",
      "64/45 0.027886710239651415\n",
      "28/45 0.012200435729847494\n",
      "64/45 0.027886710239651415\n",
      "24/45 0.01045751633986928\n",
      "64/45 0.027886710239651415\n",
      "28/45 0.012200435729847494\n",
      "64/45 0.027886710239651415\n",
      "24/45 0.01045751633986928\n",
      "64/45 0.027886710239651415\n",
      "28/45 0.012200435729847494\n",
      "64/45 0.027886710239651415\n",
      "24/45 0.01045751633986928\n",
      "64/45 0.027886710239651415\n",
      "28/45 0.012200435729847494\n",
      "64/45 0.027886710239651415\n",
      "24/45 0.01045751633986928\n",
      "64/45 0.027886710239651415\n",
      "28/45 0.012200435729847494\n",
      "64/45 0.027886710239651415\n",
      "24/45 0.01045751633986928\n",
      "64/45 0.027886710239651415\n",
      "28/45 0.012200435729847494\n",
      "64/45 0.027886710239651415\n",
      "24/45 0.01045751633986928\n",
      "64/45 0.027886710239651415\n",
      "28/45 0.012200435729847494\n",
      "64/45 0.027886710239651415\n",
      "24/45 0.01045751633986928\n",
      "64/45 0.027886710239651415\n",
      "28/45 0.012200435729847494\n",
      "64/45 0.027886710239651415\n",
      "24/45 0.01045751633986928\n",
      "64/45 0.027886710239651415\n",
      "28/45 0.012200435729847494\n",
      "14/45 0.006100217864923747\n",
      "La integral da como resultado: \n",
      "0.9533769063180824\n"
     ]
    }
   ],
   "source": [
    "import numpy as np\n",
    "\n",
    "def f(x):\n",
    "    return 1\n",
    "        ##return 1 / np.sqrt(x**2 + 1)\n",
    "    \n",
    "a = 0.\n",
    "b = 1.\n",
    "\n",
    "def integracion_boole(f, a , b , Npuntos=52):\n",
    "\n",
    "    if not Npuntos % 5 == 0:\n",
    "        corrector = Npuntos % 5\n",
    "        Npuntos -= corrector\n",
    "        print(f\"Se requiere un número de puntos múltiplo de 4, los puntos ahora son {Npuntos}\")\n",
    "\n",
    "    h = (b-a)/(Npuntos-1)\n",
    "    Resultado = 0\n",
    "    \n",
    "    for i in range(1, Npuntos+1):\n",
    "        x = a + (i-1) * h\n",
    "        if i == 1 or i == Npuntos:\n",
    "            contribucion = f(x)*(14/45)*h\n",
    "            print(f'14/45 {contribucion}')\n",
    "        elif (i-1) % 4 == 0:\n",
    "            contribucion = f(x)*(28/45)*h  \n",
    "            print(f'28/45 {contribucion}')\n",
    "        elif (i+1) % 4 == 0:\n",
    "            contribucion = f(x)*(24/45)*h\n",
    "            print(f'24/45 {contribucion}')\n",
    "        else:\n",
    "            contribucion = f(x)*(64/45)*h\n",
    "            print(f'64/45 {contribucion}')\n",
    "        Resultado += contribucion\n",
    "    print(f\"La integral da como resultado: \")\n",
    "    print(Resultado)\n",
    "    return\n",
    "    \n",
    "integracion_boole(f, a , b)"
   ]
  },
  {
   "cell_type": "code",
   "execution_count": null,
   "id": "c4ed5d55-d4be-4b2e-b9fa-86a34ddb6152",
   "metadata": {},
   "outputs": [],
   "source": [
    "0.8813735870201473"
   ]
  },
  {
   "cell_type": "code",
   "execution_count": null,
   "id": "e72d81f4-ed4a-4bfa-a176-acf09ed006f7",
   "metadata": {},
   "outputs": [],
   "source": []
  }
 ],
 "metadata": {
  "kernelspec": {
   "display_name": "Python 3 (ipykernel)",
   "language": "python",
   "name": "python3"
  },
  "language_info": {
   "codemirror_mode": {
    "name": "ipython",
    "version": 3
   },
   "file_extension": ".py",
   "mimetype": "text/x-python",
   "name": "python",
   "nbconvert_exporter": "python",
   "pygments_lexer": "ipython3",
   "version": "3.11.5"
  }
 },
 "nbformat": 4,
 "nbformat_minor": 5
}
