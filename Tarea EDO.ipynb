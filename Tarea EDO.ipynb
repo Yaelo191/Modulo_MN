{
 "cells": [
  {
   "cell_type": "code",
   "execution_count": 5,
   "id": "6c71f90d-1286-4c7b-81b2-8f01ed765b76",
   "metadata": {},
   "outputs": [
    {
     "name": "stdout",
     "output_type": "stream",
     "text": [
      "[ 19.53         3.14847227   1.56501191   0.26296871  -0.97182666\n",
      "  -2.28204589  -3.81903888  -5.80936521  -8.6780744  -13.37838499\n",
      " -22.50759395 -45.29198435]\n",
      "[ 19.53        10.16782416   6.37032643   4.11921483   2.48829431\n",
      "   1.12081032  -0.17770512  -1.56533384  -3.24322678  -5.58940124\n",
      "  -9.6041146  -19.50349262]\n"
     ]
    }
   ],
   "source": [
    "import numpy as np \n",
    "from Bloque_1.EDO.edo_euler import edo_euler\n",
    "from Bloque_1.EDO.edo_rk4 import edo_rk4\n",
    "\n",
    "def f(x, y):\n",
    "    return- (30/(1-x**2)) + ((2*x)/(1-x**2))*y- y**2\n",
    "a, b, n, yinit = 0.05, 0.49, 12, 19.53\n",
    "xs, ys = edo_euler(f, a, b, n, yinit); print(ys)\n",
    "xs, ys = edo_rk4(f, a, b, n, yinit); print(ys)"
   ]
  },
  {
   "cell_type": "code",
   "execution_count": null,
   "id": "f78b4193-61a7-492c-9399-b53d7c6bc335",
   "metadata": {},
   "outputs": [],
   "source": []
  }
 ],
 "metadata": {
  "kernelspec": {
   "display_name": "Python 3 (ipykernel)",
   "language": "python",
   "name": "python3"
  },
  "language_info": {
   "codemirror_mode": {
    "name": "ipython",
    "version": 3
   },
   "file_extension": ".py",
   "mimetype": "text/x-python",
   "name": "python",
   "nbconvert_exporter": "python",
   "pygments_lexer": "ipython3",
   "version": "3.11.5"
  }
 },
 "nbformat": 4,
 "nbformat_minor": 5
}
