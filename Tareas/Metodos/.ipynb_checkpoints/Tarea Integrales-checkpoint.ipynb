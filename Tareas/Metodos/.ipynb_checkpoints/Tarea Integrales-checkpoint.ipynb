{
 "cells": [
  {
   "cell_type": "markdown",
   "id": "2a0356cb-b0d7-4ed4-9298-308a6add0410",
   "metadata": {},
   "source": [
    "## Parte 2\n",
    "\n",
    "Hace falta corregir el metodo de boole, solo acierta en 5 cifras y necesita mas iteraciones."
   ]
  },
  {
   "cell_type": "code",
   "execution_count": 15,
   "id": "21009a82-0672-4a60-828d-a19912edcfb0",
   "metadata": {},
   "outputs": [
    {
     "name": "stdout",
     "output_type": "stream",
     "text": [
      "La integral da como resultado: \n",
      "7.999989866665669\n"
     ]
    }
   ],
   "source": [
    "#a) \n",
    "from Integracion.Boole import integracion_boole\n",
    "import numpy as np\n",
    "def f(x):\n",
    "    return 3*x**2\n",
    "\n",
    "integracion_boole(f, 0, 2)"
   ]
  },
  {
   "cell_type": "code",
   "execution_count": 16,
   "id": "0bd2737c-dce8-49a6-b7a3-929b26f408cf",
   "metadata": {},
   "outputs": [
    {
     "name": "stdout",
     "output_type": "stream",
     "text": [
      "La integral da como resultado: \n",
      "1.7182806807394408\n"
     ]
    }
   ],
   "source": [
    "#b) \n",
    "from Integracion.Boole import integracion_boole\n",
    "import numpy as np\n",
    "def f(x):\n",
    "    return np.exp(x)\n",
    "\n",
    "integracion_boole(f, 0, 1)"
   ]
  },
  {
   "cell_type": "code",
   "execution_count": 18,
   "id": "af95fcf0-9e46-4396-85f6-bbe8fbf8cdbc",
   "metadata": {},
   "outputs": [
    {
     "name": "stdout",
     "output_type": "stream",
     "text": [
      "La integral da como resultado: \n",
      "0.9999997331043138\n"
     ]
    }
   ],
   "source": [
    "#c) \n",
    "from Integracion.Boole import integracion_boole\n",
    "import numpy as np\n",
    "def f(x): \n",
    "    return 1/x\n",
    "\n",
    "integracion_boole(f, 1, np.exp(1))"
   ]
  },
  {
   "cell_type": "code",
   "execution_count": 20,
   "id": "75d4fc3b-508f-418d-b304-c189090e6219",
   "metadata": {},
   "outputs": [
    {
     "name": "stdout",
     "output_type": "stream",
     "text": [
      "La integral da como resultado: \n",
      "3.333327422232912\n"
     ]
    }
   ],
   "source": [
    "#d) \n",
    "from Integracion.Boole import integracion_boole\n",
    "import numpy as np\n",
    "def f(x): \n",
    "    return x + 2*x**2 - x**3 + 5*x**4\n",
    "\n",
    "integracion_boole(f, -1, 1)"
   ]
  },
  {
   "cell_type": "code",
   "execution_count": 22,
   "id": "0b71a352-80de-4602-b6f3-f1314f46bdb9",
   "metadata": {},
   "outputs": [
    {
     "name": "stdout",
     "output_type": "stream",
     "text": [
      "La integral da como resultado: \n",
      "0.8284268261896583\n"
     ]
    }
   ],
   "source": [
    "#e) \n",
    "from Integracion.Boole import integracion_boole\n",
    "import numpy as np\n",
    "def f(x): \n",
    "    return 1/np.sqrt(x-1)\n",
    "\n",
    "integracion_boole(f, 2, 3)"
   ]
  },
  {
   "cell_type": "code",
   "execution_count": 24,
   "id": "8af9875a-4785-441b-8315-1d2d06cbb9f9",
   "metadata": {},
   "outputs": [
    {
     "name": "stdout",
     "output_type": "stream",
     "text": [
      "La integral da como resultado: \n",
      "1.0986119368158302\n"
     ]
    }
   ],
   "source": [
    "#f) \n",
    "from Integracion.Boole import integracion_boole\n",
    "import numpy as np\n",
    "def f(x): \n",
    "    return (2*x + 1)/(x**2 + x)\n",
    "\n",
    "integracion_boole(f, 1, 2)"
   ]
  },
  {
   "cell_type": "code",
   "execution_count": 25,
   "id": "79a234a8-9962-42be-b2cc-0705866c96f5",
   "metadata": {},
   "outputs": [
    {
     "name": "stdout",
     "output_type": "stream",
     "text": [
      "La integral da como resultado: \n",
      "7.449638891466327e-12\n"
     ]
    }
   ],
   "source": [
    "#g) \n",
    "from Integracion.Boole import integracion_boole\n",
    "import numpy as np\n",
    "def f(x): \n",
    "    return np.sin(x)\n",
    "\n",
    "integracion_boole(f, 0, 2*np.pi)"
   ]
  },
  {
   "cell_type": "code",
   "execution_count": 26,
   "id": "d003a974-66a6-4e07-947a-ab941812332e",
   "metadata": {},
   "outputs": [
    {
     "name": "stdout",
     "output_type": "stream",
     "text": [
      "La integral da como resultado: \n",
      "0.7853979522860111\n"
     ]
    }
   ],
   "source": [
    "#h) \n",
    "from Integracion.Boole import integracion_boole\n",
    "import numpy as np\n",
    "def f(x): \n",
    "    return 1/(x**2 + 1)\n",
    "\n",
    "integracion_boole(f, 0, 1)"
   ]
  },
  {
   "cell_type": "code",
   "execution_count": 27,
   "id": "17f679b7-14fe-4e32-995c-e970f206959f",
   "metadata": {},
   "outputs": [
    {
     "name": "stdout",
     "output_type": "stream",
     "text": [
      "La integral da como resultado: \n",
      "0.27555947915666\n"
     ]
    }
   ],
   "source": [
    "#i) \n",
    "from Integracion.Boole import integracion_boole\n",
    "import numpy as np\n",
    "def f(x): \n",
    "    return 1/(x**2 + x - 2)\n",
    "\n",
    "integracion_boole(f, 2, 5)"
   ]
  },
  {
   "cell_type": "code",
   "execution_count": 28,
   "id": "b93eda4a-527d-4ba7-853d-56421be27048",
   "metadata": {},
   "outputs": [
    {
     "name": "stdout",
     "output_type": "stream",
     "text": [
      "La integral da como resultado: \n",
      "0.39269887058729075\n"
     ]
    }
   ],
   "source": [
    "#j) \n",
    "from Integracion.Boole import integracion_boole\n",
    "import numpy as np\n",
    "def f(x): \n",
    "    return x/(x**4 + 1)\n",
    "\n",
    "integracion_boole(f, 0, 1)"
   ]
  },
  {
   "cell_type": "markdown",
   "id": "1436d09f-269b-4145-9bff-f58c4356cb60",
   "metadata": {},
   "source": [
    "## Parte 3"
   ]
  },
  {
   "cell_type": "code",
   "execution_count": 5,
   "id": "108d20ca-4f76-4fbd-b041-f48e7794d9b1",
   "metadata": {},
   "outputs": [
    {
     "data": {
      "text/plain": [
       "1.4999991555549008"
      ]
     },
     "execution_count": 5,
     "metadata": {},
     "output_type": "execute_result"
    }
   ],
   "source": [
    "#a) \n",
    "from Integracion.Boole import integracion_boole\n",
    "import numpy as np\n",
    "\n",
    "def f(x): \n",
    "    return x + 1\n",
    "\n",
    "integracion_boole(f, 0, 1)"
   ]
  },
  {
   "cell_type": "code",
   "execution_count": 4,
   "id": "bd2d10b2-8472-4680-abda-e52265090ab4",
   "metadata": {},
   "outputs": [
    {
     "data": {
      "text/plain": [
       "3.3333312222207043"
      ]
     },
     "execution_count": 4,
     "metadata": {},
     "output_type": "execute_result"
    }
   ],
   "source": [
    "#b) \n",
    "from Integracion.Boole import integracion_boole\n",
    "import numpy as np\n",
    "\n",
    "def f(x): \n",
    "    return x**2 + 1\n",
    "\n",
    "integracion_boole(f, 1, 2)"
   ]
  },
  {
   "cell_type": "code",
   "execution_count": 3,
   "id": "7049d3cb-6e95-4335-99af-33f55a5a93f1",
   "metadata": {},
   "outputs": [
    {
     "data": {
      "text/plain": [
       "3.999993244446717"
      ]
     },
     "execution_count": 3,
     "metadata": {},
     "output_type": "execute_result"
    }
   ],
   "source": [
    "#c) \n",
    "from Integracion.Boole import integracion_boole\n",
    "import numpy as np\n",
    "\n",
    "def f(x): \n",
    "    return x**3\n",
    "\n",
    "integracion_boole(f, 0, 2)"
   ]
  },
  {
   "cell_type": "code",
   "execution_count": 2,
   "id": "83de5184-0e61-46fa-8573-de10d3e3d4a2",
   "metadata": {},
   "outputs": [
    {
     "name": "stdout",
     "output_type": "stream",
     "text": [
      "0.833332911110884\n"
     ]
    }
   ],
   "source": [
    "#d) \n",
    "from Integracion.Boole import integracion_boole\n",
    "import numpy as np\n",
    "IR = 0\n",
    "def f(x): \n",
    "    return x**2\n",
    "I1 = integracion_boole(f, 0, 1)\n",
    "def f(x): \n",
    "    return -x + 2\n",
    "I2 = integracion_boole(f, 1, 2)\n",
    "\n",
    "I = I2 + I1\n",
    "print(I)"
   ]
  },
  {
   "cell_type": "code",
   "execution_count": 6,
   "id": "f2d5bbdf-d1c7-4f24-b3c7-0a11edc06ce0",
   "metadata": {},
   "outputs": [
    {
     "data": {
      "text/plain": [
       "-2.1666658222212303"
      ]
     },
     "execution_count": 6,
     "metadata": {},
     "output_type": "execute_result"
    }
   ],
   "source": [
    "#e) \n",
    "from Integracion.Boole import integracion_boole\n",
    "import numpy as np\n",
    "\n",
    "def f(x): \n",
    "    return x**2 - x - 2\n",
    "\n",
    "integracion_boole(f, 0, 1)"
   ]
  },
  {
   "cell_type": "code",
   "execution_count": null,
   "id": "9b517a4e-79e9-4ce2-8d5f-46baafb6e4bc",
   "metadata": {},
   "outputs": [],
   "source": [
    "#f) \n",
    "from Integracion.Boole import integracion_boole\n",
    "import numpy as np\n",
    "\n",
    "def f(x): \n",
    "    return np.cos(x)\n",
    "\n",
    "integracion_boole(f, np.pi/2, 3*np.pi/2)"
   ]
  },
  {
   "cell_type": "code",
   "execution_count": 7,
   "id": "0b9965a9-db95-4502-b1a1-fa4983210877",
   "metadata": {},
   "outputs": [
    {
     "data": {
      "text/plain": [
       "0.16666666666646968"
      ]
     },
     "execution_count": 7,
     "metadata": {},
     "output_type": "execute_result"
    }
   ],
   "source": [
    "#g) \n",
    "from Integracion.Boole import integracion_boole\n",
    "import numpy as np\n",
    "\n",
    "def f(x): \n",
    "    return x - x**2\n",
    "\n",
    "integracion_boole(f, 0, 1)"
   ]
  },
  {
   "cell_type": "code",
   "execution_count": 8,
   "id": "768e9164-cc37-4924-a57d-247d98fad7f7",
   "metadata": {},
   "outputs": [
    {
     "data": {
      "text/plain": [
       "21.33333333330812"
      ]
     },
     "execution_count": 8,
     "metadata": {},
     "output_type": "execute_result"
    }
   ],
   "source": [
    "#h) \n",
    "from Integracion.Boole import integracion_boole\n",
    "import numpy as np\n",
    "\n",
    "def f(x): \n",
    "    return -2*x**2 + 8*x\n",
    "\n",
    "integracion_boole(f, 0, 4)"
   ]
  },
  {
   "cell_type": "code",
   "execution_count": null,
   "id": "cb7a93a6-486a-4726-b226-81aac82e2cd6",
   "metadata": {},
   "outputs": [],
   "source": []
  }
 ],
 "metadata": {
  "kernelspec": {
   "display_name": "Python 3 (ipykernel)",
   "language": "python",
   "name": "python3"
  },
  "language_info": {
   "codemirror_mode": {
    "name": "ipython",
    "version": 3
   },
   "file_extension": ".py",
   "mimetype": "text/x-python",
   "name": "python",
   "nbconvert_exporter": "python",
   "pygments_lexer": "ipython3",
   "version": "3.11.5"
  }
 },
 "nbformat": 4,
 "nbformat_minor": 5
}
