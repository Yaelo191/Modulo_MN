{
 "cells": [
  {
   "cell_type": "markdown",
   "id": "1e62abcd-aeec-4926-81d9-5eaa543ef0e6",
   "metadata": {},
   "source": [
    "# Metodo de euler"
   ]
  },
  {
   "cell_type": "code",
   "execution_count": null,
   "id": "97c26b22-a9d6-43ef-b0e9-047dc2faa4cd",
   "metadata": {},
   "outputs": [],
   "source": [
    "def euler(f, a, b, n, yinit):\n",
    "    h = (b-a)/(n-1)\n",
    "    xs = a + np.arange(n)*h\n",
    "    ys = np.zeros(n)\n",
    "    y = yinit\n",
    "    for j,x in enumerate(xs):\n",
    "        ys[j] = y\n",
    "        y += h*f(x, y)\n",
    "    return xs, ys"
   ]
  },
  {
   "cell_type": "markdown",
   "id": "74e0bb7d-8c5e-49de-8ef9-e56a383449f0",
   "metadata": {},
   "source": [
    "# Metodo de Rugen Kutta"
   ]
  },
  {
   "cell_type": "code",
   "execution_count": null,
   "id": "d2028486-913e-47b0-8697-dd420a54d920",
   "metadata": {},
   "outputs": [],
   "source": [
    "def rk4(f, a, b, n, yinit):\n",
    "    h = (b-a)/(n-1)\n",
    "    xs = a + np.arange(n)*h\n",
    "    ys = np.zeros(n)\n",
    "    y = yinit\n",
    "    for j, x in enumerate(xs):\n",
    "        ys[j] = y\n",
    "        k0 = h*f(x, y)\n",
    "        k1 = h*f(x+h/2, y+k0/2)\n",
    "        k2 = h*f(x+h/2, y+k1/2)\n",
    "        k3 = h*f(x+h, y+k2)\n",
    "        y += (k0 + 2*k1 + 2*k2 + k3)/6\n",
    "    return xs, ys"
   ]
  },
  {
   "cell_type": "code",
   "execution_count": 5,
   "id": "8538576d-1893-4029-87c3-47a8378199b9",
   "metadata": {},
   "outputs": [
    {
     "name": "stdout",
     "output_type": "stream",
     "text": [
      "[ 19.53         3.14847227   1.56501191   0.26296871  -0.97182666\n",
      "  -2.28204589  -3.81903888  -5.80936521  -8.6780744  -13.37838499\n",
      " -22.50759395 -45.29198435]\n",
      "[ 19.53        10.16782416   6.37032643   4.11921483   2.48829431\n",
      "   1.12081032  -0.17770512  -1.56533384  -3.24322678  -5.58940124\n",
      "  -9.6041146  -19.50349262]\n"
     ]
    }
   ],
   "source": [
    "import numpy as np\n",
    "\n",
    "def f(x, y):\n",
    "    return- (30/(1-x**2)) + ((2*x)/(1-x**2))*y- y**2\n",
    "\n",
    "def euler(f, a, b, n, yinit):\n",
    "    h = (b-a)/(n-1)\n",
    "    xs = a + np.arange(n)*h\n",
    "    ys = np.zeros(n)\n",
    "    y = yinit\n",
    "    for j,x in enumerate(xs):\n",
    "        ys[j] = y\n",
    "        y += h*f(x, y)\n",
    "    return xs, ys\n",
    "def rk4(f, a, b, n, yinit):\n",
    "    h = (b-a)/(n-1)\n",
    "    xs = a + np.arange(n)*h\n",
    "    ys = np.zeros(n)\n",
    "    y = yinit\n",
    "    for j, x in enumerate(xs):\n",
    "        ys[j] = y\n",
    "        k0 = h*f(x, y)\n",
    "        k1 = h*f(x+h/2, y+k0/2)\n",
    "        k2 = h*f(x+h/2, y+k1/2)\n",
    "        k3 = h*f(x+h, y+k2)\n",
    "        y += (k0 + 2*k1 + 2*k2 + k3)/6\n",
    "    return xs, ys\n",
    "a, b, n, yinit = 0.05, 0.49, 12, 19.53\n",
    "xs, ys = euler(f, a, b, n, yinit); print(ys)\n",
    "xs, ys = rk4(f, a, b, n, yinit); print(ys) "
   ]
  },
  {
   "cell_type": "code",
   "execution_count": 11,
   "id": "71e135af-f180-4b96-8962-25054dd09c76",
   "metadata": {},
   "outputs": [
    {
     "ename": "ImportError",
     "evalue": "attempted relative import with no known parent package",
     "output_type": "error",
     "traceback": [
      "\u001b[1;31m---------------------------------------------------------------------------\u001b[0m",
      "\u001b[1;31mImportError\u001b[0m                               Traceback (most recent call last)",
      "Cell \u001b[1;32mIn[11], line 6\u001b[0m\n\u001b[0;32m      4\u001b[0m \u001b[38;5;28;01mimport\u001b[39;00m \u001b[38;5;21;01mnumpy\u001b[39;00m \u001b[38;5;28;01mas\u001b[39;00m \u001b[38;5;21;01mnp\u001b[39;00m \n\u001b[0;32m      5\u001b[0m \u001b[38;5;66;03m#import Modulo_MN as mn\u001b[39;00m\n\u001b[1;32m----> 6\u001b[0m \u001b[38;5;28;01mfrom\u001b[39;00m \u001b[38;5;21;01m.\u001b[39;00m\u001b[38;5;21;01mBloque_1\u001b[39;00m\u001b[38;5;21;01m.\u001b[39;00m\u001b[38;5;21;01mEDO\u001b[39;00m\u001b[38;5;21;01m.\u001b[39;00m\u001b[38;5;21;01medo_euler\u001b[39;00m \u001b[38;5;28;01mimport\u001b[39;00m edo_euler\n\u001b[0;32m      8\u001b[0m a, b, n, yinit \u001b[38;5;241m=\u001b[39m \u001b[38;5;241m0.05\u001b[39m, \u001b[38;5;241m0.49\u001b[39m, \u001b[38;5;241m12\u001b[39m, \u001b[38;5;241m19.53\u001b[39m\n\u001b[0;32m      9\u001b[0m xs, ys \u001b[38;5;241m=\u001b[39m mn\u001b[38;5;241m.\u001b[39meuler(f, a, b, n, yinit); \u001b[38;5;28mprint\u001b[39m(ys)\n",
      "\u001b[1;31mImportError\u001b[0m: attempted relative import with no known parent package"
     ]
    }
   ],
   "source": [
    "#import sys\n",
    "#sys.path.append('/Modulo_MN/Bloque_1/')\n",
    "#from EDO import edo_euler, edo_rk\n",
    "import numpy as np \n",
    "#import Modulo_MN as mn\n",
    "from .Bloque_1.EDO.edo_euler import edo_euler\n",
    "\n",
    "a, b, n, yinit = 0.05, 0.49, 12, 19.53\n",
    "xs, ys = mn.euler(f, a, b, n, yinit); print(ys)\n",
    "xs, ys = mn.rk4(f, a, b, n, yinit); print(ys) "
   ]
  },
  {
   "cell_type": "code",
   "execution_count": null,
   "id": "d8178135-5a04-4695-bac3-ab0b98893436",
   "metadata": {},
   "outputs": [],
   "source": []
  },
  {
   "cell_type": "code",
   "execution_count": null,
   "id": "9321de38-dac0-46a6-a7f9-2ef193f05853",
   "metadata": {},
   "outputs": [],
   "source": []
  }
 ],
 "metadata": {
  "kernelspec": {
   "display_name": "Python 3 (ipykernel)",
   "language": "python",
   "name": "python3"
  },
  "language_info": {
   "codemirror_mode": {
    "name": "ipython",
    "version": 3
   },
   "file_extension": ".py",
   "mimetype": "text/x-python",
   "name": "python",
   "nbconvert_exporter": "python",
   "pygments_lexer": "ipython3",
   "version": "3.11.5"
  }
 },
 "nbformat": 4,
 "nbformat_minor": 5
}
