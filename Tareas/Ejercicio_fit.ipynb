{
 "cells": [
  {
   "cell_type": "code",
   "execution_count": 3,
   "metadata": {},
   "outputs": [],
   "source": [
    "import numpy as np\n",
    "import matplotlib.pyplot as plt"
   ]
  },
  {
   "cell_type": "markdown",
   "metadata": {},
   "source": [
    "### Ejercicio 1:\n",
    "\n",
    "En una determinada colonia se desea conocer si existe alguna relación entre la edad de los vecinos y la *percepción de inseguridad*. Para ello se tomo una pequeña muestra de $10$ individuos, donde se calificaba la seguridad en una escala del $0-10$ donde el $0$ representa *totalmente seguro* y el $10$ representa *totalmente inseguro*:\n",
    "\n",
    "<center><img src=\"imagen0.png\"></center> \n",
    "\n",
    "Se pide:\n",
    "- Estudiar la relación entre las dos variables “edad” y “percepción de inseguridad” a través de regresión lineal (considere un modelo lineal y uno cuadrático y compare).\n",
    "- Representar gráficamente el mejor modelo. ¿Qué podemos decir de esta relación?\n",
    "- ¿Qué puntuación sobre la inseguridad en el barrio obtendría un individuo de 25 años? ¿Y un individuo de 70?\n",
    "- Estudiar la correlación de las variables e interpretar los coeficientes usando [el coeficiente de correlación de Pearson](https://es.wikipedia.org/wiki/Coeficiente_de_correlación_de_Pearson)\n",
    "- ¿Qué valor de la edad presenta mayor residuo? ¿Cuál es residuo para la edad de 42 años? ¿Y para la edad de 31?\n"
   ]
  },
  {
   "cell_type": "code",
   "execution_count": 7,
   "metadata": {},
   "outputs": [],
   "source": [
    "def fbase(k, x):\n",
    "    val = x**k\n",
    "    return val\n",
    "\n",
    "\n",
    "def Gnormalfit(dataxs, datays, datasigs, n):\n",
    "    N = dataxs.size\n",
    "    A = np.zeros((N, n))  # notar la dimensión\n",
    "    \n",
    "    for k in range(n):\n",
    "        A[:, k] = dataxs**k /datasigs  # A_{jk} = phi_k(x_j)/sigma_j\n",
    "    bs = datays/datasigs  # b_j = y_j/sigma_j\n",
    "    \n",
    "    matI = A.T@A  # np.dot(A.T, A)\n",
    "    InvmatI = np.linalg.inv(matI) \n",
    "    matD = A.T@bs\n",
    "    cs = InvmatI@matD\n",
    "    \n",
    "    sigS = np.diagonal(InvmatI)\n",
    "    chisq = np.sum((bs - A@cs)**2)  # (bs - A@cs).T@(bs - A@cs)\n",
    "    \n",
    "    return cs, chisq, sigS\n",
    "\n",
    "# generando datos\n",
    "N = 10\n",
    "np.random.seed(45379)  # fijando la semilla\n",
    "dataxs = np.array([34, 27, 65, 20, 53, 49, 42, 37, 55, 61])\n",
    "datays = np.array([4.5, 3, 7, 3.5, 8, 5, 4, 4, 5.5, 7.5])  # la última parte es el ruido\n",
    "datasigs = np.ones(10)\n",
    "#datasigs = 2*np.abs(np.random.randn(10))\n",
    "\n",
    "csVal, sigVal = [], []"
   ]
  },
  {
   "cell_type": "markdown",
   "metadata": {},
   "source": [
    "### Cuadratico"
   ]
  },
  {
   "cell_type": "code",
   "execution_count": 5,
   "metadata": {},
   "outputs": [
    {
     "name": "stdout",
     "output_type": "stream",
     "text": [
      "\n",
      "El valor para \\chi^2 es  6.752230717925598\n",
      "El valor para \\chi^2 por grado de libertad es:  0.9646043882750854\n",
      "El valor de los parámetros c_i son  [ 2.73814191e+00 -4.87788111e-03  1.23984825e-03]\n"
     ]
    }
   ],
   "source": [
    "cs, chisq, sigS = Gnormalfit(dataxs, datays, datasigs, 3)\n",
    "csVal.append(cs)\n",
    "sigVal.append(np.sqrt(sigS))\n",
    "print()\n",
    "print('El valor para \\chi^2 es ', chisq) \n",
    "print('El valor para \\chi^2 por grado de libertad es: ', chisq/(dataxs.size - cs.size))\n",
    "print('El valor de los parámetros c_i son ', cs)"
   ]
  },
  {
   "cell_type": "markdown",
   "metadata": {},
   "source": [
    "### Lineal"
   ]
  },
  {
   "cell_type": "code",
   "execution_count": 64,
   "metadata": {},
   "outputs": [
    {
     "name": "stdout",
     "output_type": "stream",
     "text": [
      "\n",
      "El valor para \\chi^2 es  7.256471303378753\n",
      "El valor para \\chi^2 por grado de libertad es:  0.9070589129223441\n",
      "El valor de los parámetros c_i son  [0.70290259 0.10151461]\n"
     ]
    }
   ],
   "source": [
    "cs0, chisq0, sigS0 = Gnormalfit(dataxs, datays, datasigs, 2)\n",
    "csVal.append(cs)\n",
    "sigVal.append(np.sqrt(sigS0))\n",
    "print()\n",
    "print('El valor para \\chi^2 es ', chisq0) \n",
    "print('El valor para \\chi^2 por grado de libertad es: ', chisq0/(dataxs.size - cs0.size))\n",
    "print('El valor de los parámetros c_i son ', cs0)"
   ]
  },
  {
   "cell_type": "code",
   "execution_count": 6,
   "metadata": {},
   "outputs": [
    {
     "data": {
      "text/plain": [
       "(0.0, 10.0)"
      ]
     },
     "execution_count": 6,
     "metadata": {},
     "output_type": "execute_result"
    },
    {
     "data": {
      "image/png": "[encoded data removed]",
      "text/plain": [
       "<Figure size 640x480 with 1 Axes>"
      ]
     },
     "metadata": {},
     "output_type": "display_data"
    }
   ],
   "source": [
    "model = lambda x, c0, c1, c2: c0 + c1*x + c2*x**2\n",
    "xval = np.linspace(min(dataxs)-0.1, max(dataxs)+0.1, 100) \n",
    "\n",
    "fig, ax = plt.subplots()\n",
    "ax.errorbar(dataxs, datays, xerr=None, yerr=datasigs, capsize=5, ls='', marker='o', mfc='white', ms=3, mew=1, label=r'Datos')\n",
    "ax.plot(xval, model(xval, *csVal[0]), ls='--', lw=1, c='k', label=r'Base Pol. n=%d'%len(csVal[0]))\n",
    "\n",
    "ax.fill_between(xval, model(xval, *(csVal[0]+sigVal[0])), model(xval, *(csVal[0]-sigVal[0])), color='gray', alpha=0.5)\n",
    "\n",
    "\n",
    "ax.legend(frameon=False)\n",
    "\n",
    "\n",
    "ax.set_xlabel('x')\n",
    "ax.set_ylabel('y')\n",
    "ax.set_ylim(0, 10)"
   ]
  },
  {
   "cell_type": "code",
   "execution_count": 67,
   "metadata": {},
   "outputs": [
    {
     "name": "stdout",
     "output_type": "stream",
     "text": [
      "Puntuacion sobre inseguridad\n",
      "Individuo 25 años: 3.3911000315429587\n",
      "Individuo 70 años: 8.471946636284072\n"
     ]
    }
   ],
   "source": [
    "veinticinco = model(25, *csVal[0])\n",
    "setenta = model(70, *csVal[0])\n",
    "\n",
    "print('Puntuacion sobre inseguridad')\n",
    "print(f'Individuo 25 años: {veinticinco}')\n",
    "print(f'Individuo 70 años: {setenta}')"
   ]
  },
  {
   "cell_type": "markdown",
   "metadata": {},
   "source": [
    "¿Qué valor de la edad presenta mayor residuo? ¿Cuál es residuo para la edad de 42 años? ¿Y para la edad de 31?"
   ]
  },
  {
   "cell_type": "code",
   "execution_count": null,
   "metadata": {},
   "outputs": [],
   "source": [
    "cuatrodos = model(42, *csVal[0])\n",
    "tresuno = model(31, *csVal[0])\n",
    "residuo1 = np.abs(cuatrodos-4)\n",
    "residuo2 = np.abs(tresuno-4)\n",
    "if residuo1<residuo2:\n",
    "    print('El reciduo de la edad de cuarenta y dos"
   ]
  },
  {
   "cell_type": "code",
   "execution_count": 9,
   "metadata": {},
   "outputs": [
    {
     "name": "stdout",
     "output_type": "stream",
     "text": [
      "Coeficiente de correlación de Pearson: 0.8585361804059204\n"
     ]
    }
   ],
   "source": [
    "def pearson_correlation(x, y):\n",
    "    x = np.array(x)\n",
    "    y = np.array(y)\n",
    "    \n",
    "    # Calcular la media de x y y\n",
    "    mean_x = np.mean(x)\n",
    "    mean_y = np.mean(y)\n",
    "    \n",
    "    # Calcular la diferencia respecto a la media\n",
    "    diff_x = x - mean_x\n",
    "    diff_y = y - mean_y\n",
    "    \n",
    "    # Calcular el numerador\n",
    "    numerator = np.sum(diff_x * diff_y)\n",
    "    \n",
    "    # Calcular el denominador\n",
    "    denominator = np.sqrt(np.sum(diff_x**2) * np.sum(diff_y**2))\n",
    "    \n",
    "    # Calcular el coeficiente de correlación de Pearson\n",
    "    r = numerator / denominator\n",
    "    \n",
    "    return r\n",
    "\n",
    "coef = pearson_correlation(dataxs, datays)\n",
    "print(\"Coeficiente de correlación de Pearson:\", coef)\n"
   ]
  },
  {
   "cell_type": "markdown",
   "metadata": {},
   "source": [
    "Un coeficiente de correlacion en 1 nos indicaria una relacion total eentre ambas variables, es decir que el comportamiento de una depende totalmente de la otra, esta es escala va de -1 a 1, -1 siendo una correlacion negativa donde dependen de si en signos opuestoa y 1 una relacion perfecta, en nuestro caso tenemos una relacion de 0.85 (85%) que al ser muy cercano a uno podemos intuir que las variables tienen una fuerte relacion de dependencia entre si "
   ]
  },
  {
   "cell_type": "markdown",
   "metadata": {},
   "source": [
    "### Ejercicio 2:\n",
    "\n",
    "Una empresa de manufacturas basa las predicciones de sus ventas anuales en los resultados oficiales de la demanda total en la industria. A continuación se dan los datos de demanda total y las ventas efectuadas por la empresa en los últimos 11 años.\n",
    "\n",
    "<center><img src=\"imagen1.png\"></center> \n",
    "\n",
    "Se pide:\n",
    "- Econtrar y demostrar que modelo se ajusta mejor, uno lineal o cuadrático.\n",
    "- Graficar los datos y el mejor modelo.\n",
    "- ¿Existe una correlación entre las variables?"
   ]
  },
  {
   "cell_type": "code",
   "execution_count": 5,
   "metadata": {},
   "outputs": [],
   "source": [
    "def Gnormalfit(dataxs, datays, datasigs, n):\n",
    "    N = dataxs.size\n",
    "    A = np.zeros((N, n))  # notar la dimensión\n",
    "    \n",
    "    for k in range(n):\n",
    "        A[:, k] = dataxs**k /datasigs  # A_{jk} = phi_k(x_j)/sigma_j\n",
    "    bs = datays/datasigs  # b_j = y_j/sigma_j\n",
    "    \n",
    "    matI = A.T@A  # np.dot(A.T, A)\n",
    "    InvmatI = np.linalg.inv(matI) \n",
    "    matD = A.T@bs\n",
    "    cs = InvmatI@matD\n",
    "    \n",
    "    sigS = np.diagonal(InvmatI)\n",
    "    chisq = np.sum((bs - A@cs)**2)  # (bs - A@cs).T@(bs - A@cs)\n",
    "    \n",
    "    return cs, chisq, sigS\n",
    "\n",
    "dataxs = np.array([200, 220, 400, 330, 210, 390, 280, 140, 280, 290, 380])\n",
    "datays = np.array([9, 6, 12, 7, 5, 10, 8, 4, 7, 10, 14])\n",
    "datasigs = np.ones_like(dataxs)\n",
    "csVal, sigVal = [], []"
   ]
  },
  {
   "cell_type": "code",
   "execution_count": 6,
   "metadata": {},
   "outputs": [
    {
     "name": "stdout",
     "output_type": "stream",
     "text": [
      "\n",
      "El valor para \\chi^2 es  31.874444963513294\n",
      "El valor para \\chi^2 por grado de libertad es:  3.984305620439162\n",
      "El valor de los parámetros c_i son  [3.06698241e+00 7.26158688e-03 3.71525901e-05]\n"
     ]
    }
   ],
   "source": [
    "cs, chisq, sigS = Gnormalfit(dataxs, datays, datasigs, 3)\n",
    "csVal.append(cs)\n",
    "sigVal.append(np.sqrt(sigS))\n",
    "print()\n",
    "print('El valor para \\chi^2 es ', chisq) \n",
    "print('El valor para \\chi^2 por grado de libertad es: ', chisq/(dataxs.size - cs.size))\n",
    "print('El valor de los parámetros c_i son ', cs)"
   ]
  },
  {
   "cell_type": "code",
   "execution_count": 7,
   "metadata": {},
   "outputs": [
    {
     "name": "stdout",
     "output_type": "stream",
     "text": [
      "\n",
      "El valor para \\chi^2 es  32.467326732673264\n",
      "El valor para \\chi^2 por grado de libertad es:  3.6074807480748072\n",
      "El valor de los parámetros c_i son  [0.38811881 0.02811881]\n"
     ]
    }
   ],
   "source": [
    "cs0, chisq0, sigS0 = Gnormalfit(dataxs, datays, datasigs, 2)\n",
    "csVal.append(cs)\n",
    "sigVal.append(np.sqrt(sigS0))\n",
    "print()\n",
    "print('El valor para \\chi^2 es ', chisq0) \n",
    "print('El valor para \\chi^2 por grado de libertad es: ', chisq0/(dataxs.size - cs0.size))\n",
    "print('El valor de los parámetros c_i son ', cs0)"
   ]
  },
  {
   "cell_type": "code",
   "execution_count": 9,
   "metadata": {},
   "outputs": [
    {
     "data": {
      "image/png": "[encoded data removed]",
      "text/plain": [
       "<Figure size 640x480 with 1 Axes>"
      ]
     },
     "metadata": {},
     "output_type": "display_data"
    }
   ],
   "source": [
    "model = lambda x, c0, c1: c0 + c1 * x\n",
    "xval = np.linspace(min(dataxs) - 0.1, max(dataxs) + 0.1, 100) \n",
    "\n",
    "\n",
    "fig, ax = plt.subplots()\n",
    "ax.errorbar(dataxs, datays, xerr=None, yerr=datasigs, capsize=5, ls='', marker='o', mfc='white', ms=3, mew=1, label='Datos')\n",
    "ax.plot(xval, model(xval, *cs0), ls='--', lw=1, c='k', label=f'Base Pol. n={len(cs0)}')\n",
    "\n",
    "ax.fill_between(xval, model(xval, *(cs0 + np.sqrt(sigS0))), model(xval, *(cs0 - np.sqrt(sigS0))), color='gray', alpha=0.5)\n",
    "\n",
    "ax.legend(frameon=False)\n",
    "ax.set_xlabel('x')\n",
    "ax.set_ylabel('y')\n",
    "ax.set_ylim(0, 15)\n",
    "\n",
    "plt.show()"
   ]
  },
  {
   "cell_type": "markdown",
   "metadata": {},
   "source": [
    "### Ejercicio 3:\n",
    "\n",
    "En determinada zona se está investigando la relación entre el consumo de alcohol y el de otros estupefacientes entre la población juvenil. Se sabe que el consumo medio de alcohol es de $2.3$ veces por semana (con una desviación típica de $2.5$) mientras que el consumo medio de otros estupefacientes es de $1.3$ veces por semana (con una desviación típica de $3$). El coeficiente de determinación es del $45.1 \\%$. Halle la recta $y =c_0 +c_1 x$ que relaciona el consumo de alcohol ($x$) y el consumo de otros estupefacientes ($y$) para esa población de jóvenes.\n",
    "\n",
    "Tip: Note que tiene los siguientes datos:\n",
    "- $\\bar{x}=2.3, \\quad S_x = 2.5$\n",
    "- $\\bar{y}=1.3, \\quad S_y = 3.0$\n",
    "- $r^2=0.451$ donde $r=S_{xy}/(S_x S_y)$ correlación de Pearson o coeficiente de determinación.\n"
   ]
  },
  {
   "cell_type": "code",
   "execution_count": null,
   "metadata": {},
   "outputs": [],
   "source": []
  }
 ],
 "metadata": {
  "kernelspec": {
   "display_name": "Python 3 (ipykernel)",
   "language": "python",
   "name": "python3"
  },
  "language_info": {
   "codemirror_mode": {
    "name": "ipython",
    "version": 3
   },
   "file_extension": ".py",
   "mimetype": "text/x-python",
   "name": "python",
   "nbconvert_exporter": "python",
   "pygments_lexer": "ipython3",
   "version": "3.11.5"
  }
 },
 "nbformat": 4,
 "nbformat_minor": 4
}
