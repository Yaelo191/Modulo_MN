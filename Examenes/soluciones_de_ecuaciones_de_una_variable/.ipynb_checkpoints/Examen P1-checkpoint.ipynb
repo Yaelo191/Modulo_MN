{
 "cells": [
  {
   "cell_type": "markdown",
   "id": "8a2dfbac-ba0b-435b-909f-20e2d629dd4d",
   "metadata": {},
   "source": [
    "# Examen parcial metodos numericos\n"
   ]
  },
  {
   "cell_type": "markdown",
   "id": "46a7a37c-0e56-4fd8-84eb-be581f1b08d8",
   "metadata": {},
   "source": [
    "### Preambulo\n",
    "Se presentan una serie de métodos numéricos para encontrar raíces de funciones, todos fueron vistos durante el curso. Métodos como el de punto fijo, secante y secante v2 son una versión simple, mientras que el método de bisección y Newton cuentan con un mayor desarrollo. En particular, el método de Newton sintió la necesidad de separarlo en dos versiones: una limitada a la aplicación del método per se y una segunda versión que hace uso del método de bisección para determinar sus semillas."
   ]
  },
  {
   "cell_type": "markdown",
   "id": "1bf8794c-5277-4469-83de-0fc1f8e37ca1",
   "metadata": {},
   "source": [
    "### Metodo de biseccion\n",
    "Este metodo se encuentra en su tercer version, se basa en el algoritmo visto en clase y se agrega la funcion encontrar_intervalo, esta ultima es capaz de que dentro de un intervalo mayor comience la busqueda de intervalos menores paso a paso, el paso es modificable, nos devuelve una lista temporal de intervalos, estos dentro de la funcion metodo_biseccion pasaran por un ciclo for para ejecutar el algoritmo del metodo una vez por cada intervalo menor encontrado, esto nos permitira encntrar multiples raices que son almacenadas en una lista nombrada \"raices\" que devuelve nuestra funcion, esto se hizo con la intencion de poder aprovechar estas aproximaciones para mas adelante ser refinadas por el metodo de newton o cualquier otro.  "
   ]
  },
  {
   "cell_type": "code",
   "execution_count": 6,
   "id": "6497dd59-5b3d-499c-ae27-cd1556d5d69d",
   "metadata": {},
   "outputs": [
    {
     "name": "stdout",
     "output_type": "stream",
     "text": [
      "The autoreload extension is already loaded. To reload it, use:\n",
      "  %reload_ext autoreload\n"
     ]
    },
    {
     "ename": "ImportError",
     "evalue": "attempted relative import with no known parent package",
     "output_type": "error",
     "traceback": [
      "\u001b[1;31m---------------------------------------------------------------------------\u001b[0m",
      "\u001b[1;31mImportError\u001b[0m                               Traceback (most recent call last)",
      "Cell \u001b[1;32mIn[6], line 5\u001b[0m\n\u001b[0;32m      2\u001b[0m get_ipython()\u001b[38;5;241m.\u001b[39mrun_line_magic(\u001b[38;5;124m'\u001b[39m\u001b[38;5;124mautoreload\u001b[39m\u001b[38;5;124m'\u001b[39m, \u001b[38;5;124m'\u001b[39m\u001b[38;5;124m2\u001b[39m\u001b[38;5;124m'\u001b[39m)\n\u001b[0;32m      4\u001b[0m \u001b[38;5;28;01mimport\u001b[39;00m \u001b[38;5;21;01mnumpy\u001b[39;00m \u001b[38;5;28;01mas\u001b[39;00m \u001b[38;5;21;01mnp\u001b[39;00m\n\u001b[1;32m----> 5\u001b[0m \u001b[38;5;28;01mfrom\u001b[39;00m \u001b[38;5;21;01m.\u001b[39;00m\u001b[38;5;21;01msoluciones_de_ecuaciones_de_una_variable\u001b[39;00m\u001b[38;5;21;01m.\u001b[39;00m\u001b[38;5;21;01mbisec\u001b[39;00m \u001b[38;5;28;01mimport\u001b[39;00m metodo_biseccion, encontrar_intervalo\n\u001b[0;32m      7\u001b[0m def_funcion \u001b[38;5;241m=\u001b[39m \u001b[38;5;28minput\u001b[39m(\u001b[38;5;124m\"\u001b[39m\u001b[38;5;124mIngrese una función de x (por ejemplo, \u001b[39m\u001b[38;5;124m'\u001b[39m\u001b[38;5;124mx**2 - 4\u001b[39m\u001b[38;5;124m'\u001b[39m\u001b[38;5;124m): \u001b[39m\u001b[38;5;124m\"\u001b[39m)\n\u001b[0;32m      8\u001b[0m res \u001b[38;5;241m=\u001b[39m sev\u001b[38;5;241m.\u001b[39mmetodo_biseccion(def_funcion, \u001b[38;5;241m-\u001b[39m\u001b[38;5;241m10\u001b[39m, \u001b[38;5;241m10\u001b[39m)\n",
      "\u001b[1;31mImportError\u001b[0m: attempted relative import with no known parent package"
     ]
    }
   ],
   "source": [
    "%load_ext autoreload\n",
    "%autoreload 2\n",
    "    \n",
    "import numpy as np\n",
    "from .soluciones_de_ecuaciones_de_una_variable.bisec import metodo_biseccion, encontrar_intervalo\n",
    "\n",
    "def_funcion = input(\"Ingrese una función de x (por ejemplo, 'x**2 - 4'): \")\n",
    "res = sev.metodo_biseccion(def_funcion, -10, 10)\n"
   ]
  },
  {
   "cell_type": "markdown",
   "id": "ab032a0c-471a-4edb-96dd-39688ed7286b",
   "metadata": {},
   "source": [
    "### Metodo de punto fijo\n",
    "Es un codigo basado en la estructura del algoritmo visto en clase, su adicion a esto esto son sus argumentos definidos por: P0=1, tolerancia=0.000001 y max_iter=10000."
   ]
  },
  {
   "cell_type": "code",
   "execution_count": 2,
   "id": "de0b7bed-622d-437a-8d86-24ddd2eacc4b",
   "metadata": {},
   "outputs": [
    {
     "name": "stdin",
     "output_type": "stream",
     "text": [
      "Ingrese una función de x despejando x(por ejemplo para 'x**2 + 7*x + 12'-->'-(x**2 + 12)/7'):  -(x**2 + 12)/7\n",
      "Ingrese una semilla:  3\n"
     ]
    },
    {
     "name": "stdout",
     "output_type": "stream",
     "text": [
      "Raíz encontrada: -2.9999948147252034\n"
     ]
    }
   ],
   "source": [
    "%load_ext autoreload\n",
    "%autoreload 2\n",
    "import numpy as np\n",
    "import Soluciones_de_ecuaciones_de _una_variable as sev\n",
    "\n",
    "def_funcion = input(\"Ingrese una función de x despejando x(por ejemplo para 'x**2 + 7*x + 12'-->'-(x**2 + 12)/7'): \")\n",
    "d0 = float(input(\"Ingrese una semilla: \"))\n",
    "res = punto_fijo(def_funcion)"
   ]
  },
  {
   "cell_type": "markdown",
   "id": "345a14a7-b0fb-400e-9601-d2fcbc4258c1",
   "metadata": {},
   "source": [
    "### Metodo de Newton v1\n",
    "\n",
    "Esta es la primer version del metodo de newton, basada enteramente en el algoritmo de clase, nuevamente este codigo solo tiene la adicionl de tener definidas las variables P0=1, tolerancia=0.000001 y max_iter=10000, y tener la posibilidad de personalizarlas."
   ]
  },
  {
   "cell_type": "code",
   "execution_count": 18,
   "id": "8900340e-125a-4d86-b1a8-0accae4918c9",
   "metadata": {},
   "outputs": [
    {
     "name": "stdin",
     "output_type": "stream",
     "text": [
      "Ingrese una función de x (por ejemplo 'x**2 + 7*x + 12':  x**2 + 7*x + 12\n",
      "Ingrese la derivada de la funcion anterior (por ejemplo para '2*x +7':  2*x +7\n",
      "Ingrese una semilla:  -2.9999816894531413\n"
     ]
    },
    {
     "name": "stdout",
     "output_type": "stream",
     "text": [
      "Raíz encontrada: -3.0000000000000004\n"
     ]
    }
   ],
   "source": [
    "%load_ext autoreload\n",
    "%autoreload 2\n",
    "import numpy as np\n",
    "\n",
    "def_funcion = input(\"Ingrese una función de x (por ejemplo 'x**2 + 7*x + 12': \")\n",
    "def_funcion_prime = input(\"Ingrese la derivada de la funcion anterior (por ejemplo para '2*x +7': \")\n",
    "d0 = float(input(\"Ingrese una semilla: \"))\n",
    "res = metodo_newton(def_funcion, def_funcion_prime P0=d0)"
   ]
  },
  {
   "cell_type": "markdown",
   "id": "f4fb0e7b-8781-4fc7-85fd-c94044509a65",
   "metadata": {},
   "source": [
    "### Metodo de Newton v2\n",
    "Mi version mas actual del metodo de newton, las diferencias con su predecesor podemos en general son el uso del metodo de biseccion para encontrar sus semillas/aproxmaciones, como consecuencia a esto ya no se requiere de la entrada manual de semillas o de una semilla predeterminada inexacta, cuenta con un intervalo mayor predeterminado que recibira la funcion de biseccion(tenemos la opcion de configurar esto). Como un bonus agregue una condicional, en caso de que biseccion no sea capas de encontrar raices aproximadas, la funcion metodo de newtn recibira como semilla un numero complejo, de este modo continuara su busqueda ahora en  este plano."
   ]
  },
  {
   "cell_type": "code",
   "execution_count": 22,
   "id": "e50a932b-dd59-4d03-9542-f648ffd20c8e",
   "metadata": {},
   "outputs": [
    {
     "name": "stdin",
     "output_type": "stream",
     "text": [
      "Ingrese una función de x (por ejemplo 'x**2 + 7*x + 12'):  x**2 + 1\n",
      "Ingrese la derivada de la función anterior (por ejemplo para '2*x +7'):  2*x\n"
     ]
    },
    {
     "name": "stdout",
     "output_type": "stream",
     "text": [
      "Fin del programa\n",
      "Raíz encontrada: 1j\n"
     ]
    }
   ],
   "source": [
    "%load_ext autoreload\n",
    "%autoreload 2\n",
    "import numpy as np\n",
    "from .bisec import metodo_biseccion, encontrar_intervalo\n",
    "\n",
    "def_funcion = input(\"Ingrese una función de x (por ejemplo 'x**2 + 7*x + 12'): \")\n",
    "def_funcion_prime = input(\"Ingrese la derivada de la función anterior (por ejemplo para '2*x +7'): \")\n",
    "metodo_newton_v2(def_funcion, def_funcion_prime)"
   ]
  },
  {
   "cell_type": "markdown",
   "id": "371e81a6-6c97-4af6-906a-ae1b6bd46334",
   "metadata": {},
   "source": [
    "### Metodo secante\n",
    "Es un codigo basado en la estructura del algoritmo visto en clase, su adicion a esto esto son sus argumentos definidos por: P0=1, P1=10, tolerancia=0.000001 y max_iter=10000."
   ]
  },
  {
   "cell_type": "code",
   "execution_count": 6,
   "id": "1cb6bcea-07e2-485f-9acd-c481436ebef0",
   "metadata": {},
   "outputs": [
    {
     "name": "stdin",
     "output_type": "stream",
     "text": [
      "Ingrese una función de x (por ejemplo 'x**2 + 7*x + 12'):  x**2 + 7*x + 12\n",
      "Ingrese una semilla:  1\n",
      "Ingrese una segunda semilla:  3\n"
     ]
    },
    {
     "name": "stdout",
     "output_type": "stream",
     "text": [
      "Raíz encontrada: -2.999999999994853\n"
     ]
    }
   ],
   "source": [
    "%load_ext autoreload\n",
    "%autoreload 2\n",
    "import numpy as np\n",
    "\n",
    "def_funcion = input(\"Ingrese una función de x (por ejemplo 'x**2 + 7*x + 12'): \")\n",
    "d0 = float(input(\"Ingrese una semilla: \"))\n",
    "d1 = float(input(\"Ingrese una segunda semilla: \"))\n",
    "res = secante(def_funcion, d0, d1)"
   ]
  },
  {
   "cell_type": "markdown",
   "id": "4ed62a7d-5a56-4ad5-9d04-0adbd7c9c9d6",
   "metadata": {},
   "source": [
    "### Metodo secante v2\n",
    "Es un codigo basado en la estructura del algoritmo visto en clase, su adicion a esto esto son sus argumentos definidos por:  a=1, b=10, tolerancia=0.000001, max_iter=1000."
   ]
  },
  {
   "cell_type": "code",
   "execution_count": 14,
   "id": "d424ccc3-3af6-46b1-9c55-10d88e187514",
   "metadata": {},
   "outputs": [
    {
     "name": "stdin",
     "output_type": "stream",
     "text": [
      "Ingrese una función de x (por ejemplo 'x**2 + 7*x + 12'):  x**2 + 7*x + 12\n",
      "Ingrese extremo a:  1\n",
      "Ingrese extremo b:  10\n"
     ]
    },
    {
     "name": "stdout",
     "output_type": "stream",
     "text": [
      "1.0 es una raiz de la funcion\n",
      "Raíz encontrada: -2.9999965257897525\n"
     ]
    }
   ],
   "source": [
    "%load_ext autoreload\n",
    "%autoreload 2\n",
    "import numpy as np\n",
    "import Soluciones_de_ecuaciones_de _una_variable as sev\n",
    "\n",
    "def_funcion = input(\"Ingrese una función de x (por ejemplo 'x**2 + 7*x + 12'): \")\n",
    "d0 = float(input(\"Ingrese extremo a: \"))\n",
    "d1 = float(input(\"Ingrese extremo b: \"))\n",
    "res = sev.secante_v2(def_funcion, d0, d1)"
   ]
  },
  {
   "cell_type": "code",
   "execution_count": null,
   "id": "ce548eb9-f4e5-4389-b704-8e2f3c2b2afe",
   "metadata": {},
   "outputs": [],
   "source": []
  }
 ],
 "metadata": {
  "kernelspec": {
   "display_name": "Python 3 (ipykernel)",
   "language": "python",
   "name": "python3"
  },
  "language_info": {
   "codemirror_mode": {
    "name": "ipython",
    "version": 3
   },
   "file_extension": ".py",
   "mimetype": "text/x-python",
   "name": "python",
   "nbconvert_exporter": "python",
   "pygments_lexer": "ipython3",
   "version": "3.11.5"
  }
 },
 "nbformat": 4,
 "nbformat_minor": 5
}
