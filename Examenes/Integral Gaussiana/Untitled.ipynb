{
 "cells": [
  {
   "cell_type": "code",
   "execution_count": 3,
   "id": "42420d0d-8676-4fc7-9bac-a01a42560434",
   "metadata": {},
   "outputs": [
    {
     "ename": "ModuleNotFoundError",
     "evalue": "No module named 'secante_v2'",
     "output_type": "error",
     "traceback": [
      "\u001b[1;31m---------------------------------------------------------------------------\u001b[0m",
      "\u001b[1;31mModuleNotFoundError\u001b[0m                       Traceback (most recent call last)",
      "Cell \u001b[1;32mIn[3], line 2\u001b[0m\n\u001b[0;32m      1\u001b[0m \u001b[38;5;28;01mimport\u001b[39;00m \u001b[38;5;21;01mnumpy\u001b[39;00m \u001b[38;5;28;01mas\u001b[39;00m \u001b[38;5;21;01mnp\u001b[39;00m\n\u001b[1;32m----> 2\u001b[0m \u001b[38;5;28;01mfrom\u001b[39;00m \u001b[38;5;21;01msecante_v2\u001b[39;00m \u001b[38;5;28;01mimport\u001b[39;00m metodo_secante_v2\n",
      "\u001b[1;31mModuleNotFoundError\u001b[0m: No module named 'secante_v2'"
     ]
    }
   ],
   "source": [
    "import numpy as np\n",
    "from secante_v2 import metodo_secante_v2"
   ]
  },
  {
   "cell_type": "code",
   "execution_count": 2,
   "id": "bd890540-d0dc-48cc-bcfb-6904a9209ac3",
   "metadata": {},
   "outputs": [],
   "source": [
    "def boonetRec(n, x):\n",
    "    if n <= 1:\n",
    "        raise ValueError(\"El valor de n debe ser mayor que 1.\")\n",
    "    \n",
    "    val0, val1 = 1, x\n",
    "    \n",
    "    for j in range(1, n):\n",
    "        val_next = ((2*j+1)*x*val1 - j*val0)/(j+1.)\n",
    "        val0, val1 = val1, val_next \n",
    "    return val0, val1\n",
    "\n",
    "def legendre(n, x):\n",
    "    if n==0:\n",
    "        valn = 1. if isinstance(x, (int, float)) else [1.]*len(x)\n",
    "        dvaln = 0. if isinstance(x, (int, float)) else [0.]*len(x)\n",
    "    elif n==1:\n",
    "        valn = x\n",
    "        dvaln = 1. if isinstance(x, (int, float)) else [1.]*len(x)\n",
    "    else:\n",
    "        valn_m1, valn = boonetRec(n, x)\n",
    "        dvaln = n*(valn_m1-x*valn)/(1.-x**2)  # derivada\n",
    "    return valn, dvaln"
   ]
  },
  {
   "cell_type": "code",
   "execution_count": null,
   "id": "5f4591b7-9159-4499-b2d2-f40dde6bafad",
   "metadata": {},
   "outputs": [],
   "source": [
    "def legroots(n, delt=.2, Nit=1000, error='dist', eps=1e-05):\n",
    "    roots = np.zeros(n)\n",
    "    npos = n//2 # pq son simétricos\n",
    "    \n",
    "    f = lambda x: legendre(n, x)[0]  # recordar que da dos salidas y quiero solo el Pn\n",
    "    for i in range(npos):\n",
    "        p0 = np.cos(np.pi*(4*i+3)/(4*n+2))  # semilla\n",
    "        p1 = p0 + delt\n",
    "        root = secv1(f, [p0, p1], Nit, error, eps)\n",
    "        roots[i] = -root\n",
    "        roots[-1-i] = root\n",
    "    return roots"
   ]
  }
 ],
 "metadata": {
  "kernelspec": {
   "display_name": "Python 3 (ipykernel)",
   "language": "python",
   "name": "python3"
  },
  "language_info": {
   "codemirror_mode": {
    "name": "ipython",
    "version": 3
   },
   "file_extension": ".py",
   "mimetype": "text/x-python",
   "name": "python",
   "nbconvert_exporter": "python",
   "pygments_lexer": "ipython3",
   "version": "3.11.5"
  }
 },
 "nbformat": 4,
 "nbformat_minor": 5
}
